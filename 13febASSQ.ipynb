{
 "cells": [
  {
   "cell_type": "markdown",
   "id": "23307555-1dc6-4346-9217-8d0983ebe60f",
   "metadata": {},
   "source": [
    "Q1. Explain why we have to use the Exception class while creating a Custom Exception. \n",
    "Note: Here Exception class refers to the base class for all the exceptions. \n"
   ]
  },
  {
   "cell_type": "markdown",
   "id": "53ab28a3-f403-40d6-a358-4b43aa7bca23",
   "metadata": {},
   "source": [
    "ans:-Custom exceptions such as that mentioned in the example above (AccountRegistrationException), \n",
    "also help a great deal in code read-ability and understand-ability. It goes with the flow of code where you name\n",
    "class and method names in relation with functionality and also,\n",
    "the exceptions"
   ]
  },
  {
   "cell_type": "markdown",
   "id": "ff1f7949-ad31-4499-a5cd-9335fb82854f",
   "metadata": {},
   "source": [
    "Q2. Write a python program to print Python Exception Hierarchy. \n"
   ]
  },
  {
   "cell_type": "markdown",
   "id": "ff9ec041-f147-43bb-846e-4b341be11ea6",
   "metadata": {},
   "source": [
    "ans:-This Exception or Error hierarchy can be printed by importing the Python's inspect module. \n",
    "Using the inspect module, one can perform type checking, retrieve the source code of a method, inspects classes \n",
    "and functions,\n",
    "and examine interpreter stack."
   ]
  },
  {
   "cell_type": "markdown",
   "id": "7f50ecdd-6868-4c4b-86fa-a34746a9c866",
   "metadata": {},
   "source": [
    "Q3. What errors are defined in the ArithmeticError class? Explain any two with an example."
   ]
  },
  {
   "cell_type": "markdown",
   "id": "7242d5df-8314-416d-9746-249fbe866544",
   "metadata": {},
   "source": [
    "ans:-ArithmeticError is thrown when an error occurs while performing mathematical operations. \n",
    "These errors include attempting to perform a bitshift by a negative amount, \n",
    "and any call to intdiv() that would result in a value outside the possible bounds of an int."
   ]
  },
  {
   "cell_type": "markdown",
   "id": "7b875ea1-bacf-4302-ad4c-ad124215eaab",
   "metadata": {},
   "source": [
    " Q4. Why LookupError class is used? "
   ]
  },
  {
   "cell_type": "markdown",
   "id": "0411bdfc-f074-42f2-8307-01066cd96610",
   "metadata": {},
   "source": [
    "ans:-The LookupError exception in Python forms the base class for all exceptions that are raised \n",
    "when an index or a key is not found for a sequence or dictionary respectively. "
   ]
  },
  {
   "cell_type": "markdown",
   "id": "8107d26e-8508-442e-a440-3060a93ba278",
   "metadata": {},
   "source": [
    " Q5. Explain ImportError. What is ModuleNotFoundError? \n"
   ]
  },
  {
   "cell_type": "markdown",
   "id": "0439c040-c5b1-435e-99cb-dbb224eec872",
   "metadata": {},
   "source": [
    "ython's ImportError ( ModuleNotFoundError ) indicates that you tried to import a module that Python doesn't find. It can usually be eliminated by adding a file named __init__.py to the directory and then adding this directory to $PYTHONPATH ."
   ]
  },
  {
   "cell_type": "markdown",
   "id": "9e549c64-195d-42cf-a6d5-08cda740c603",
   "metadata": {},
   "source": [
    "Q6. List down some best practices for exception handling in python.  \n"
   ]
  },
  {
   "cell_type": "markdown",
   "id": "e5b7bb81-93b3-4fcd-a04e-e7fdb596a567",
   "metadata": {},
   "source": [
    "ans:-Use try/catch/finally blocks to recover from errors or release resources.\n",
    "Handle common conditions without throwing exceptions.\n",
    "Design classes so that exceptions can be avoided.\n",
    "Throw exceptions instead of returning an error code.\n",
    "Use the predefined .NET exception types."
   ]
  }
 ],
 "metadata": {
  "kernelspec": {
   "display_name": "Python 3 (ipykernel)",
   "language": "python",
   "name": "python3"
  },
  "language_info": {
   "codemirror_mode": {
    "name": "ipython",
    "version": 3
   },
   "file_extension": ".py",
   "mimetype": "text/x-python",
   "name": "python",
   "nbconvert_exporter": "python",
   "pygments_lexer": "ipython3",
   "version": "3.10.8"
  }
 },
 "nbformat": 4,
 "nbformat_minor": 5
}
